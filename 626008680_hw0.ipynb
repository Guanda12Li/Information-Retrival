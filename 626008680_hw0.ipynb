{
 "cells": [
  {
   "cell_type": "markdown",
   "metadata": {},
   "source": [
    "#### CSCE 670 :: Information Storage and Retrieval :: Texas A&M University :: Spring 2019\n",
    "\n",
    "\n",
    "# Homework 0: Starting Point\n",
    "\n",
    "### 100 points [2% of your final grade]\n",
    "\n",
    "- **Due Sunday, January 20 by 11:59pm**\n",
    "\n",
    "*Goals of this homework:* The objective of this homework is to help you prepare your development environment. You will get familiar with Python in a Jupyter notebook, and then do some beginning exercises.\n",
    "\n",
    "*Submission instructions (eCampus):* To submit your homework, rename this notebook as `UIN_hw0.ipynb`. For example, my homework submission would be something like `555001234_hw0.ipynb`. Submit this notebook via eCampus (look for the homework 0 assignment there). Your notebook should be completely self-contained, with the results visible in the notebook. We should not have to run any code from the command line, nor should we have to run your code within the notebook (though we reserve the right to do so). So please run all the cells for us, and then submit. \n",
    "\n",
    "*Late policy:* For this homework, no late submissions will be accepted. "
   ]
  },
  {
   "cell_type": "markdown",
   "metadata": {},
   "source": [
    "## Jupyter, Python, and our Expectations\n",
    "\n",
    "This homework, all subsequent homeworks, and your project will use iPython in a Jupyter notebook. iPython is just an interactive shell for programming in the Python language. A few years ago, the developers created a generic interactive shell called Jupyter that supports languages beyond just Python. This can be a bit confusing, and we'll add a bit to the confusion by referring to iPython and Jupyter interchangeably in this course.\n",
    "\n",
    "With respect to Python, we do not expect you to have any prior experience. We do, however, expect you to have proficiency in some programming language (so you've seen loops, conditionals, functions, etc.) and a willingness to experiment and learn on your own. Python is a fun language and you should be able to pick up the necessary portions as we move along; however, this may require you to spend some extra cycles consulting online documentation, referring to a Python book, or scouring over StackOverflow. \n",
    "\n",
    "A few basic Python pointers:\n",
    "* http://introtopython.org\n",
    "* https://docs.python.org/3/tutorial/\n",
    "* http://mbakker7.github.io/exploratory_computing_with_python/ [particularly the basic Python language ones]\n",
    "\n",
    "\n",
    "We expect your code to be well-documented with appropriate comments. We prefer meaningful variable names and function names. We also expect your code to be compact and sensible -- no super-long lines, nor dense unintelligible lines of code.\n",
    "\n",
    "In general, Python code is often run from standalone Python modules or files; for this class, we will often run Python from here within the Jupyter notebook.\n",
    "\n",
    "Now that you're ready, let's take a look at this Jupyter notebook. You'll notice that it is composed of cells. Some cells have text (like this one), while others contain code and comments. This cell is written in **Markdown** a simple text-to-HTML language. You can find a cheat sheet for Markdown here: https://github.com/adam-p/markdown-here/wiki/Markdown-Cheatsheet. You can toggle a cell between Markdown and code with the toggle button up there on the menu bar.\n",
    "\n",
    "The cell below contains code and can be **executed** by hitting the **Run** button on the menu bar or by hitting **shift + enter**."
   ]
  },
  {
   "cell_type": "code",
   "execution_count": 2,
   "metadata": {},
   "outputs": [
    {
     "name": "stdout",
     "output_type": "stream",
     "text": [
      "Hello world!\n"
     ]
    }
   ],
   "source": [
    "# this is a comment\n",
    "# you can execute this cell by hitting shift+enter\n",
    "# the output will appear immediately below\n",
    "print('Hello world!')"
   ]
  },
  {
   "cell_type": "markdown",
   "metadata": {},
   "source": [
    "Since Jupyter is just an interactive shell around Python, you can define functions. For example:"
   ]
  },
  {
   "cell_type": "code",
   "execution_count": 3,
   "metadata": {},
   "outputs": [
    {
     "data": {
      "text/plain": [
       "27"
      ]
     },
     "execution_count": 3,
     "metadata": {},
     "output_type": "execute_result"
    }
   ],
   "source": [
    "def cubed(x):\n",
    "    \"\"\" Return the cube of a  \n",
    "        value \"\"\"\n",
    "    return x ** 3\n",
    "\n",
    "cubed(3)"
   ]
  },
  {
   "cell_type": "markdown",
   "metadata": {},
   "source": [
    "You can even access the filesystem with commands like `ls` or `pwd`"
   ]
  },
  {
   "cell_type": "markdown",
   "metadata": {},
   "source": [
    "## Getting Started with Numpy and matplotlib\n",
    "\n",
    "In this part, we're going to get familiar with two important libraries -- Numpy and matplotlib.\n",
    "\n",
    "### Into to Numpy\n",
    "Since Python is an interpreted language, it might not seem like the best choice for data-intensive work. Luckily, almost all of our data workflow stack is built on top of Numpy, a Python library that adds support for large, multi-dimensional arrays and matrices, along with a large library of high-level mathematical functions to operate on these arrays."
   ]
  },
  {
   "cell_type": "code",
   "execution_count": 4,
   "metadata": {},
   "outputs": [
    {
     "name": "stdout",
     "output_type": "stream",
     "text": [
      "Make a 4 row x 2 column matrix of random numbers\n",
      "[[0.96373973 0.90384487]\n",
      " [0.79152196 0.9670485 ]\n",
      " [0.52248667 0.29767062]\n",
      " [0.17133575 0.61421193]]\n",
      "\n",
      "Add 10 to every element\n",
      "[[10.96373973 10.90384487]\n",
      " [10.79152196 10.9670485 ]\n",
      " [10.52248667 10.29767062]\n",
      " [10.17133575 10.61421193]]\n",
      "\n",
      "Get the element at row 3, column 1\n",
      "10.614211926051713\n",
      "\n",
      "Get the first row\n",
      "[10.96373973 10.90384487]\n",
      "\n"
     ]
    }
   ],
   "source": [
    "import numpy as np\n",
    "\n",
    "print(\"Make a 4 row x 2 column matrix of random numbers\")\n",
    "x = np.random.random((4, 2))\n",
    "print(x)\n",
    "print()\n",
    "\n",
    "print(\"Add 10 to every element\")\n",
    "x = x + 10\n",
    "print(x)\n",
    "print()\n",
    "\n",
    "print(\"Get the element at row 3, column 1\")\n",
    "print(x[3, 1])\n",
    "print()\n",
    "\n",
    "print(\"Get the first row\")\n",
    "print(x[0, :])\n",
    "print()"
   ]
  },
  {
   "cell_type": "markdown",
   "metadata": {},
   "source": [
    "Now, it's your turn. Find the **maximum**, **minimum**, and **mean** of the array `x` you just created. This does not require writing a loop. In the code cell below, type `x.m`+`<TAB>`, to find built-in operations that may help you out."
   ]
  },
  {
   "cell_type": "code",
   "execution_count": 9,
   "metadata": {},
   "outputs": [
    {
     "name": "stdout",
     "output_type": "stream",
     "text": [
      "Maximum:\n",
      "10.967048500512124\n",
      "\n",
      "Minimum:\n",
      "10.171335752901363\n",
      "\n",
      "Mean:\n",
      "10.653982503869926\n",
      "\n"
     ]
    }
   ],
   "source": [
    "print(\"Maximum:\")\n",
    "# please find and print the maximum of the array\n",
    "# your code here\n",
    "print(x.max())\n",
    "print()\n",
    "\n",
    "print(\"Minimum:\")\n",
    "# please find and print the minimum of the array\n",
    "# your code here\n",
    "print(x.min())\n",
    "print()\n",
    "\n",
    "print(\"Mean:\")\n",
    "# please find and print the mean of the array\n",
    "# your code here\n",
    "print(x.mean())\n",
    "print()"
   ]
  },
  {
   "cell_type": "markdown",
   "metadata": {},
   "source": [
    "That wasy easy! Now, let's see if you can generate 500 numbers from a uniform distribution between 0 and 50,000, inclusive. That is each random number could be 0, 1, 2, ..., 50,000 with equal chance. Please show us the **maximum**, **minimum**, and **mean** of these 500 random numbers. Hint: you can take a look at `np.random`. "
   ]
  },
  {
   "cell_type": "code",
   "execution_count": 15,
   "metadata": {},
   "outputs": [
    {
     "name": "stdout",
     "output_type": "stream",
     "text": [
      "Make 500 numbers uniformly distributed between 0 and 50000\n",
      "[[16248 29932 33900 10408 38919 20712 25429  3523 37575  2962  7459 34584\n",
      "  14443 35911 49735 26424  2309  2587 40159 43774 25649 22556 46894 43287\n",
      "  44989   700 47455 41879  6602  2965  3718 46481 37695 25208  7678 10858\n",
      "  32168  8956  5781 49275 32820 45825 47094 47501 15026 23631   976 23593\n",
      "   6553 39851 24085 45593 33970 23573 35438 48910  9836 15243  5843 23621\n",
      "  12368 20752   208  2587 39304  2211 46086 16697  8951 16506 39644  6774\n",
      "  10332 43272 24191  5658 27102 14236 30607  3544  4737 37340 28286  3503\n",
      "  39990 49294    75 37261 39389 11568  8465 19793 30488 17936  1577  4768\n",
      "  14542 12560 20437 39276 47827  1761 28067 13284  8758  7926 32736 18222\n",
      "  32064 41284 12540 39961 10480  1325 33044 19526 24194 26123 20336 31456\n",
      "   1290 36772 43494 12077  3110 29907 42746 27472 14077 33235 26255 18827\n",
      "  44474 44070 15223  2968 45628  1832 29197  5833  7452 48224 11349 37970\n",
      "  49468 20969 44093 41502 47867 31084  7077 49384  1247 47825 44257 33044\n",
      "  31342 42514 19397 16864 46385   644  8203 29752 34709  8922 35912 37026\n",
      "  15499 33709 15052 23881 30556 29698 23074 33518  1057 28971 29827 49625\n",
      "  17414 11579 36585 27565 48263 22399 26863  5729 33598 34099 48802 29634\n",
      "  20300 11083 34536 49977 40392 34495 22429 42557 19067 20738 16660   607\n",
      "  13032 29157 13177 45099  5914 36227 42697 21467 32271  4820  9707 49534\n",
      "   6365 24782 30886 40546 17315 44483 38713  5722  7949  7935 49468 48784\n",
      "  28359 19885 38294 19777 14053 47918 45474 21969 34454 18888 19271 11291\n",
      "  25486 49204  8958  6084 26951 29548  6433 45200 29207 12758 34113 43529\n",
      "  17197 47927 34908   954 39003 46801 41368 40219 34385 31078 10787 31111\n",
      "  17553 27727 27694 44819 12438 14688 10443 10211 17213 49218 33664 34452\n",
      "  25854 49770  2671 40408 23585  9560  2552 10829 10750  9149 14236  8881\n",
      "  33320 18838 41358 42152 40254 20511 28220 11010 19366 32586  8731 17720\n",
      "   6676  1008 46475 15477 29671 32774 35379 40890  6497 33967  6447 48359\n",
      "  17951 31581  7384 12446 29660 34792 18495 16246 27114  1024 12003  1893\n",
      "  13641  4066 48289 17301  4261 11358 33440 26419 29452  8415 18066 33280\n",
      "  22758 24137 16664  6854  7015 19719 30462 41484 34060  8761 23035 19493\n",
      "   5173 24446  8652 34340  5106 26376 34186 45130 49020 48735 36317 33796\n",
      "  31105 21918 31285 42619 45353  1561 19263  5907 46742  8663 28406   152\n",
      "  22718  1591 47184 13132  6435  5981  9479 46079 33154 36211 15153  1802\n",
      "   3129  1652 19547  8638 35128 49045  3837 46432 48155 37097  1978  9336\n",
      "  22489 25858 28385  7306 12525  1076  5512  4177 47808 18226 45141 48703\n",
      "   2433 21520 39744 38464 27809 24933  3957  5142 18180 21567  1878 48827\n",
      "  32023 25906 48515 46262 45973 12348  1134 25154  2511 23193  3021 31057\n",
      "  12602 11824 39122 44284 48115 36338 47683  7098 24714  5755  8204 49369\n",
      "  35439 35890  5055   415 28157 46980 27196 46628  1986 13404 36129 19059\n",
      "  15940 15076   318 12571 41763 49268 33942 49087 32403 36264  1864 16861\n",
      "   9326 39138  9161  9507   720  2750 14209 43297 39860 31857 24262  1060\n",
      "   4781 42365 46367  8769 47253 11742 14364 34850 18860 27146 47696 44126\n",
      "  12121 35008 32772 35119  9509 47765 32787 33077]]\n",
      "\n",
      "Maximum:\n",
      "49977\n",
      "\n",
      "Minimum:\n",
      "75\n",
      "\n",
      "Mean:\n",
      "24490.19\n",
      "\n"
     ]
    }
   ],
   "source": [
    "# your code here\n",
    "print(\"Make 500 numbers uniformly distributed between 0 and 50000\")\n",
    "y = np.random.randint(0, 50000, (1, 500))\n",
    "print(y)\n",
    "print()\n",
    "\n",
    "print(\"Maximum:\")\n",
    "print(y.max())\n",
    "print()\n",
    "\n",
    "print(\"Minimum:\")\n",
    "print(y.min())\n",
    "print()\n",
    "\n",
    "print(\"Mean:\")\n",
    "print(y.mean())\n",
    "print()\n"
   ]
  },
  {
   "cell_type": "markdown",
   "metadata": {},
   "source": [
    "### Intro to matplotlib\n",
    "The most widespread Python plotting library is matplotlib. With it, you can create graphs, charts, basic maps, and other data visualizations. Later in the semester, we'll sometimes use `seaborn`, a library built on top of matplotlib that provides even more beautiful charts.\n",
    "\n",
    "Below, we provide some simple x and y coordinates that are then plotted. You should update the plot to include:\n",
    "* a label for the x-axis (call it 'widgets')\n",
    "* a label for the y-axis (call it 'price')\n",
    "* a label for the x, y1 curve (call it 'Alice')\n",
    "* a label for the x, y2 curve (call it 'Bob')\n",
    "* a legend in the lower right corner"
   ]
  },
  {
   "cell_type": "code",
   "execution_count": 37,
   "metadata": {},
   "outputs": [
    {
     "data": {
      "text/plain": [
       "<matplotlib.legend.Legend at 0x11c613f28>"
      ]
     },
     "execution_count": 37,
     "metadata": {},
     "output_type": "execute_result"
    },
    {
     "data": {
      "image/png": "[encoded data removed]",
      "text/plain": [
       "<Figure size 432x288 with 1 Axes>"
      ]
     },
     "metadata": {
      "needs_background": "light"
     },
     "output_type": "display_data"
    }
   ],
   "source": [
    "# this line prepares IPython for working with matplotlib\n",
    "%matplotlib inline  \n",
    "\n",
    "import matplotlib.pyplot as plt  \n",
    "\n",
    "x = [0, 1, 2, 3, 4]  \n",
    "y1 = [10, 12, 10, 10, 12]\n",
    "y2 = [8, 9, 9, 11, 12]\n",
    "plt.plot(x, y1, label = \"Alice\")\n",
    "plt.plot(x, y2, label = \"Bob\") \n",
    "# your code here (plus you may need to modify the previous two lines)\n",
    "plt.xlabel(\"widgets\")\n",
    "plt.ylabel(\"price\")\n",
    "plt.text(-0.1, 10.5, \"Alice\")\n",
    "plt.text(-0.1, 8.2, \"Bob\")\n",
    "plt.legend(bbox_to_anchor=(1, 0.2))"
   ]
  },
  {
   "cell_type": "markdown",
   "metadata": {},
   "source": [
    "## Getting started with File Input & Output\n",
    "\n",
    "Python can easily handle reading and writing files. As far as Python is concerned, a file is just a string (often very large!) stored on your local file system, that you can read or write, gradually or all together.\n",
    "\n",
    "### Writing Files\n",
    "\n",
    "*open()* returns a file object, and is most commonly used with two arguments: *open(filename, mode)*."
   ]
  },
  {
   "cell_type": "code",
   "execution_count": 21,
   "metadata": {},
   "outputs": [],
   "source": [
    "outFile = open('sample.txt', 'w')\n",
    "outFile.write('The first line\\nThe second line\\nThe third line\\n')\n",
    "outFile.close()"
   ]
  },
  {
   "cell_type": "markdown",
   "metadata": {},
   "source": [
    "The first line creates a file object, which links Python to your computer’s file system. The first parameter in the file constructor gives the file name, *sample.txt*. The second parameter indicates how you use the file. The 'w' is short for **w**rite. If the file already existed, the old contents are destroyed.\n",
    "\n",
    "And 'a' opens the file for **a**ppending; any data written to the file is automatically added to the end. 'r+' opens the file for both reading and writing.\n",
    "\n",
    "The *close* line is essential for Python to make sure everything is really written, and to relinquish control of the file."
   ]
  },
  {
   "cell_type": "markdown",
   "metadata": {},
   "source": [
    "### Methods of File Objects\n",
    "\n",
    "To read a file’s contents, call *f.read(size)*, which reads some quantity of data and returns it as a string. *size* is an optional numeric argument. When *size* is omitted or negative, the entire contents of the file will be read and returned."
   ]
  },
  {
   "cell_type": "code",
   "execution_count": 38,
   "metadata": {},
   "outputs": [
    {
     "data": {
      "text/plain": [
       "'The first line\\nThe second line\\nThe third line\\n'"
      ]
     },
     "execution_count": 38,
     "metadata": {},
     "output_type": "execute_result"
    }
   ],
   "source": [
    "outFile = open('sample.txt', 'r')\n",
    "outFile.read()"
   ]
  },
  {
   "cell_type": "markdown",
   "metadata": {},
   "source": [
    "For reading lines from a file, you can loop over the file object. This is memory efficient, fast, and leads to simple code:"
   ]
  },
  {
   "cell_type": "code",
   "execution_count": 39,
   "metadata": {},
   "outputs": [
    {
     "name": "stdout",
     "output_type": "stream",
     "text": [
      "The first line\n",
      "\n",
      "The second line\n",
      "\n",
      "The third line\n",
      "\n"
     ]
    }
   ],
   "source": [
    "outFile = open('sample.txt', 'r')\n",
    "for line in outFile:\n",
    "    print(line)"
   ]
  },
  {
   "cell_type": "markdown",
   "metadata": {},
   "source": [
    "It is good practice to use the *with* keyword when dealing with file objects. This has the advantage that the file is properly closed after its suite finishes, even if an exception is raised on the way. It is also much shorter than writing equivalent try-finally blocks:"
   ]
  },
  {
   "cell_type": "code",
   "execution_count": 40,
   "metadata": {},
   "outputs": [
    {
     "data": {
      "text/plain": [
       "'The first line\\nThe second line\\nThe third line\\n'"
      ]
     },
     "execution_count": 40,
     "metadata": {},
     "output_type": "execute_result"
    }
   ],
   "source": [
    "with open('sample.txt', 'r') as f:\n",
    "    outFile = f.read()\n",
    "outFile"
   ]
  },
  {
   "cell_type": "code",
   "execution_count": null,
   "metadata": {},
   "outputs": [],
   "source": [
    "f.closed"
   ]
  },
  {
   "cell_type": "code",
   "execution_count": 41,
   "metadata": {},
   "outputs": [],
   "source": [
    "with open('sample.txt', 'a') as f:\n",
    "    f.write('The fourth line\\n')"
   ]
  },
  {
   "cell_type": "code",
   "execution_count": 42,
   "metadata": {},
   "outputs": [
    {
     "name": "stdout",
     "output_type": "stream",
     "text": [
      "['The first line\\n', 'The second line\\n', 'The third line\\n', 'The fourth line\\n']\n"
     ]
    }
   ],
   "source": [
    "with open('sample.txt', 'r') as f:\n",
    "    print(f.readlines())  # readlines – reads the entire file and returns it as a list of strings"
   ]
  },
  {
   "cell_type": "markdown",
   "metadata": {},
   "source": [
    "### Open a Remote File via URL\n",
    "\n",
    "Python can easily access the content of a webpage via its URL, and print out locally line-by-line without saving a local copy of the file. "
   ]
  },
  {
   "cell_type": "code",
   "execution_count": 2,
   "metadata": {},
   "outputs": [
    {
     "name": "stdout",
     "output_type": "stream",
     "text": [
      "b'<html><head> <TITLE>CSCE 670 :: Information Storage and Retrieval :: Spring\\n'\n",
      "b'2019</TITLE> </head>\\n'\n",
      "b'\\n'\n",
      "b'<body bgcolor=white text=black link=blue vlink=blue alink=blue>\\n'\n",
      "b'\\n'\n",
      "b'\\n'\n",
      "b'<h1> CSCE 670 :: Information Storage and Retrieval :: Spring 2019 </h1> \\n'\n",
      "b'\\n'\n",
      "b'<p><a href=\"index.html\">Back to main page</a> \\n'\n",
      "b'\\n'\n",
      "b'<H3><A NAME = \"project-overview\">Project Overview</a></H3> \\n'\n",
      "b'\\n'\n",
      "b'<p>For the project, you will work in teams of three or four on a problem of \\n'\n",
      "b'your choosing that is interesting, significant, and relevant to this course. You have great latitude in what you work on, so make it count! We will hold a project showcase during the final week of class. Note that your code must live on github.\\n'\n",
      "b'\\n'\n",
      "b'\\n'\n",
      "b'<hr>\\n'\n",
      "b'<h4>Grading Criteria</h4> \\n'\n",
      "b'<p>The course project counts for 20% of your final grade. You will receive an overall rating based on the performance of your entire team, as well as an individual rating based on the feedback of your teammate as well as contributions to the project github repo. Typically, the individual rating can bump or depress your project grade by some small delta (say moving a group rating of 85/100 plus or minus 5 points). Rarely, a project score may be depressed significantly if a group member makes only a superficial contribution to a project.\\n'\n",
      "b'\\n'\n",
      "b'Your project will be graded based on these key milestones:\\n'\n",
      "b' \\n'\n",
      "b'<ul>\\n'\n",
      "b'<li> [10%] Project proposal: Due March 24 (Sunday) by 11:59pm\\n'\n",
      "b'<li> [50%] Project showcase: in-class April 29 and 30\\n'\n",
      "b'<li> [40%] Project report: Due May 2 (Thursday) by 11:59pm\\n'\n",
      "b'</ul>\\n'\n",
      "b'\\n'\n",
      "b'Recall that your late days are applicable to homework assignments only. All project milestones are due on their respective due date. No late project milestones will be accepted.\\n'\n",
      "b'\\n'\n",
      "b'<hr>\\n'\n",
      "b'<h4>Project proposal</h4> \\n'\n",
      "b'<p>Each group should post a 1-2 page project proposal in PDF to the Piazza course discussion forum. Be sure to start a new thread for your proposal and name the thread \"Proposal: [project_name]\", where [project_name] is a brief, descriptive name of your project. Your name should be something memorable! \\n'\n",
      "b'<br/>\\n'\n",
      "b'\\n'\n",
      "b'\\n'\n",
      "b'A proposal should address the following issues:\\n'\n",
      "b'\\n'\n",
      "b'<ul>\\n'\n",
      "b'<li>What is your research question? Clearly define the research problem/question.\\n'\n",
      "b'<li>Why is this an interesting question to ask and why would we care about the answer to this question or a solution to the problem.\\n'\n",
      "b'<li>Has any existing research work tried to answer the same or a similar question, and if so, what is still unknown?\\n'\n",
      "b'<li>How do you plan to work out the answer to the question. (At the proposal stage, you are only expected to have a sketch of your methods.)\\n'\n",
      "b'<li>How would you evaluate your solution. That is, how do you plan to demonstrate that your solution/answer is good or is reasonable.\\n'\n",
      "b'<li>A rough timeline to show when you expect to finish what. List a couple of milestones.\\n'\n",
      "b'</ul>\\n'\n",
      "b'\\n'\n",
      "b'\\n'\n",
      "b'\\n'\n",
      "b'\\n'\n",
      "b'\\n'\n",
      "b'\\n'\n",
      "b'\\n'\n",
      "b'\\n'\n",
      "b'\\n'\n",
      "b'<hr>\\n'\n",
      "b'<h4>Project showcase</h4> \\n'\n",
      "b'Finally, we will host a project showcase during our last week of class. \\n'\n",
      "b'\\n'\n",
      "b'<p>On Monday, April 29 and Tuesday, April 30 we will hold an in-class POSTER SESSION. \\n'\n",
      "b'\\n'\n",
      "b'<p>All teams must create a poster. Your poster should be MAX 30 inches horizontal by 40 inches vertical. Your poster should be structured somewhat like your website -- that is, you should provide a motivation, your approach (technical details), what you learned, what is next. You can print your poster in the department. Please use <a href=\"https://engineering.tamu.edu/media/1381416/PlotterPrintingForm2014Editable.pdf\">this printer form</a> if you want me to pay for your poster. We will have posterboards and easels set up in the classroom.\\n'\n",
      "b'\\n'\n",
      "b'<p>Be sure to highlight the key technical innovations, findings, takeaways. Impress us! This is your chance.\\n'\n",
      "b'\\n'\n",
      "b'\\n'\n",
      "b'<hr>\\n'\n",
      "b'<h4>Project report</h4>\\n'\n",
      "b'Your team should write a brief project report (4-6 pages in ACM format) summarizing the project. Your report should be structured somewhat like your proposal, but with the actual things you have actually done:\\n'\n",
      "b'\\n'\n",
      "b'<ul>\\n'\n",
      "b'<li>Introduction / problem background / motivation -- what is the research question? Why is it important?\\n'\n",
      "b'<li>Related work -- what existing work is there? Include links. What is the difference with what you propose?\\n'\n",
      "b'<li>Proposed solution / methods used -- give us the technical details about what you have done.\\n'\n",
      "b'<li>Evaluation and analysis of results -- what did you discover? \\n'\n",
      "b'<li>Conclusions / discussion -- What was challenging about the project? What would you like to do next? What are the open issues?\\n'\n",
      "b'</ul>\\n'\n",
      "b'\\n'\n",
      "b'When you post your report to Piazza you should also include:\\n'\n",
      "b'\\n'\n",
      "b'<ul>\\n'\n",
      "b'<li>Link to your github repository.\\n'\n",
      "b'<li>The data you used (raw or possibly a link to a cloud storage provider).\\n'\n",
      "b'<li>Link to your poster (PDF or similar).\\n'\n",
      "b'</ul>\\n'\n",
      "b'\\n'\n",
      "b'\\n'\n",
      "b'<P> <BR> <BR>\\n'\n",
      "b'</body>\\n'\n",
      "b'</html>'\n"
     ]
    }
   ],
   "source": [
    "import urllib  # the lib that handles the url stuff\n",
    "\n",
    "url = \"http://courses.cse.tamu.edu/caverlee/csce670/project.html\"\n",
    "\n",
    "# your code here: open the url. Hint: take a look at urllib2.urlopen\n",
    "# your code here: now print out each line\n",
    "with urllib.request.urlopen(url) as f:\n",
    "    for line in f.readlines():\n",
    "        print(line)"
   ]
  },
  {
   "cell_type": "markdown",
   "metadata": {},
   "source": [
    "## Counting Word Frequency\n",
    "\n",
    "One of the most fundamental tasks in information retrieval is to count the frequency of each word in a document.\n",
    "\n",
    "In the following example, we start with a string and split it into a list. We then create an (initially empty) list called *wordfreq*, go through each word in the *wordlist*, and count the number of times that word appears in the whole list. We then add each word’s count to our wordfreq list. Using the *zip* operation, we are able to match the first word of the word list with the first number in the frequency list, the second word and second frequency, and so on. We end up with a list of word and frequency pairs. The *str* function converts any object to a string so that it can be printed."
   ]
  },
  {
   "cell_type": "code",
   "execution_count": 72,
   "metadata": {},
   "outputs": [
    {
     "name": "stdout",
     "output_type": "stream",
     "text": [
      "String\n",
      "it was the best of times it was the worst of times it was the age of wisdom it was the age of foolishness\n",
      "\n",
      "List\n",
      "['it', 'was', 'the', 'best', 'of', 'times', 'it', 'was', 'the', 'worst', 'of', 'times', 'it', 'was', 'the', 'age', 'of', 'wisdom', 'it', 'was', 'the', 'age', 'of', 'foolishness']\n",
      "\n",
      "Frequencies\n",
      "[4, 4, 4, 1, 4, 2, 4, 4, 4, 1, 4, 2, 4, 4, 4, 2, 4, 1, 4, 4, 4, 2, 4, 1]\n",
      "\n",
      "Pairs\n",
      "{'it': 4, 'was': 4, 'the': 4, 'best': 1, 'of': 4, 'times': 2, 'worst': 1, 'age': 2, 'wisdom': 1, 'foolishness': 1}\n"
     ]
    }
   ],
   "source": [
    "wordstring = 'it was the best of times it was the worst of times '\n",
    "wordstring += 'it was the age of wisdom it was the age of foolishness'\n",
    "\n",
    "wordlist = wordstring.split()\n",
    "\n",
    "wordfreq = []\n",
    "for w in wordlist:\n",
    "    wordfreq.append(wordlist.count(w))\n",
    "\n",
    "print(\"String\\n\" + wordstring +\"\\n\")\n",
    "print(\"List\\n\" + str(wordlist) + \"\\n\")\n",
    "print(\"Frequencies\\n\" + str(wordfreq) + \"\\n\")\n",
    "print(\"Pairs\\n\" + str(dict(zip(wordlist, wordfreq))))"
   ]
  },
  {
   "cell_type": "markdown",
   "metadata": {},
   "source": [
    "Now, your job is to open up the url we mentioned a few cells above. Then output the word-frequency pairs in that url, sorted in order of descending frequency. In the case of ours Dickens example here, the output would look something like: [('of', 4), ('it', 4), ('the', 4), ('was', 4), ('age', 2), ('times', 2), ('foolishness', 1), ('worst', 1), ('wisdom', 1), ('best', 1)].\n",
    "\n",
    "Your job is to output a the word-frequency pairs for the url."
   ]
  },
  {
   "cell_type": "code",
   "execution_count": 13,
   "metadata": {},
   "outputs": [
    {
     "name": "stdout",
     "output_type": "stream",
     "text": [
      "Pairs\n",
      "[(b'the', 26), (b'to', 24), (b'your', 22), (b'a', 20), (b'you', 18), (b'is', 13), (b'of', 12), (b'project', 11), (b'and', 10), (b'what', 9), (b'should', 9), (b'will', 8), (b'or', 8), (b'be', 7), (b'work', 6), (b'in', 6), (b'on', 6), (b'Your', 6), (b'--', 6), (b'that', 5), (b'have', 5), (b'::', 4), (b'<hr>', 4), (b'an', 4), (b'rating', 4), (b'as', 4), (b'by', 4), (b'<ul>', 4), (b'</ul>', 4), (b'are', 4), (b'proposal', 4), (b'research', 4), (b'poster', 4), (b'/', 4), (b'What', 4), (b'this', 3), (b'You', 3), (b'for', 3), (b'based', 3), (b'group', 3), (b'if', 3), (b'project.', 3), (b'<li>', 3), (b'Project', 3), (b'April', 3), (b'30', 3), (b'<h4>Project', 3), (b'name', 3), (b'would', 3), (b'we', 3), (b'about', 3), (b'answer', 3), (b'do', 3), (b'like', 3), (b'report', 3), (b'670', 2), (b'Information', 2), (b'Storage', 2), (b'Retrieval', 2), (b'Spring', 2), (b'teams', 2), (b'problem', 2), (b'it', 2), (b'We', 2), (b'hold', 2), (b'showcase', 2), (b'during', 2), (b'final', 2), (b'week', 2), (b'class.', 2), (b'must', 2), (b'course', 2), (b'well', 2), (b'individual', 2), (b'github', 2), (b'can', 2), (b'only', 2), (b'key', 2), (b'Due', 2), (b'11:59pm', 2), (b'in-class', 2), (b'29', 2), (b'late', 2), (b'milestones', 2), (b'due', 2), (b'post', 2), (b'Piazza', 2), (b'discussion', 2), (b'sure', 2), (b'thread', 2), (b'question?', 2), (b'question', 2), (b'solution', 2), (b'existing', 2), (b'<li>How', 2), (b'plan', 2), (b'is,', 2), (b'poster.', 2), (b'inches', 2), (b'structured', 2), (b'somewhat', 2), (b'technical', 2), (b'with', 2), (b'used', 2), (b'<li>Link', 2), (b'<BR>', 2), (b'<html><head>', 1), (b'<TITLE>CSCE', 1), (b'2019</TITLE>', 1), (b'</head>', 1), (b'<body', 1), (b'bgcolor=white', 1), (b'text=black', 1), (b'link=blue', 1), (b'vlink=blue', 1), (b'alink=blue>', 1), (b'<h1>', 1), (b'CSCE', 1), (b'2019', 1), (b'</h1>', 1), (b'<p><a', 1), (b'href=\"index.html\">Back', 1), (b'main', 1), (b'page</a>', 1), (b'<H3><A', 1), (b'NAME', 1), (b'=', 1), (b'\"project-overview\">Project', 1), (b'Overview</a></H3>', 1), (b'<p>For', 1), (b'project,', 1), (b'three', 1), (b'four', 1), (b'choosing', 1), (b'interesting,', 1), (b'significant,', 1), (b'relevant', 1), (b'course.', 1), (b'great', 1), (b'latitude', 1), (b'on,', 1), (b'so', 1), (b'make', 1), (b'count!', 1), (b'Note', 1), (b'code', 1), (b'live', 1), (b'github.', 1), (b'<h4>Grading', 1), (b'Criteria</h4>', 1), (b'<p>The', 1), (b'counts', 1), (b'20%', 1), (b'grade.', 1), (b'receive', 1), (b'overall', 1), (b'performance', 1), (b'entire', 1), (b'team,', 1), (b'feedback', 1), (b'teammate', 1), (b'contributions', 1), (b'repo.', 1), (b'Typically,', 1), (b'bump', 1), (b'depress', 1), (b'grade', 1), (b'some', 1), (b'small', 1), (b'delta', 1), (b'(say', 1), (b'moving', 1), (b'85/100', 1), (b'plus', 1), (b'minus', 1), (b'5', 1), (b'points).', 1), (b'Rarely,', 1), (b'score', 1), (b'may', 1), (b'depressed', 1), (b'significantly', 1), (b'member', 1), (b'makes', 1), (b'superficial', 1), (b'contribution', 1), (b'graded', 1), (b'these', 1), (b'milestones:', 1), (b'[10%]', 1), (b'proposal:', 1), (b'March', 1), (b'24', 1), (b'(Sunday)', 1), (b'[50%]', 1), (b'showcase:', 1), (b'[40%]', 1), (b'report:', 1), (b'May', 1), (b'2', 1), (b'(Thursday)', 1), (b'Recall', 1), (b'days', 1), (b'applicable', 1), (b'homework', 1), (b'assignments', 1), (b'only.', 1), (b'All', 1), (b'their', 1), (b'respective', 1), (b'date.', 1), (b'No', 1), (b'accepted.', 1), (b'proposal</h4>', 1), (b'<p>Each', 1), (b'1-2', 1), (b'page', 1), (b'PDF', 1), (b'forum.', 1), (b'Be', 1), (b'start', 1), (b'new', 1), (b'\"Proposal:', 1), (b'[project_name]\",', 1), (b'where', 1), (b'[project_name]', 1), (b'brief,', 1), (b'descriptive', 1), (b'something', 1), (b'memorable!', 1), (b'<br/>', 1), (b'A', 1), (b'address', 1), (b'following', 1), (b'issues:', 1), (b'<li>What', 1), (b'Clearly', 1), (b'define', 1), (b'problem/question.', 1), (b'<li>Why', 1), (b'interesting', 1), (b'ask', 1), (b'why', 1), (b'care', 1), (b'problem.', 1), (b'<li>Has', 1), (b'any', 1), (b'tried', 1), (b'same', 1), (b'similar', 1), (b'question,', 1), (b'so,', 1), (b'still', 1), (b'unknown?', 1), (b'out', 1), (b'question.', 1), (b'(At', 1), (b'stage,', 1), (b'expected', 1), (b'sketch', 1), (b'methods.)', 1), (b'evaluate', 1), (b'solution.', 1), (b'That', 1), (b'how', 1), (b'demonstrate', 1), (b'solution/answer', 1), (b'good', 1), (b'reasonable.', 1), (b'<li>A', 1), (b'rough', 1), (b'timeline', 1), (b'show', 1), (b'when', 1), (b'expect', 1), (b'finish', 1), (b'what.', 1), (b'List', 1), (b'couple', 1), (b'milestones.', 1), (b'showcase</h4>', 1), (b'Finally,', 1), (b'host', 1), (b'our', 1), (b'last', 1), (b'<p>On', 1), (b'Monday,', 1), (b'Tuesday,', 1), (b'POSTER', 1), (b'SESSION.', 1), (b'<p>All', 1), (b'create', 1), (b'MAX', 1), (b'horizontal', 1), (b'40', 1), (b'vertical.', 1), (b'website', 1), (b'provide', 1), (b'motivation,', 1), (b'approach', 1), (b'(technical', 1), (b'details),', 1), (b'learned,', 1), (b'next.', 1), (b'print', 1), (b'department.', 1), (b'Please', 1), (b'use', 1), (b'<a', 1), (b'href=\"https://engineering.tamu.edu/media/1381416/PlotterPrintingForm2014Editable.pdf\">this', 1), (b'printer', 1), (b'form</a>', 1), (b'want', 1), (b'me', 1), (b'pay', 1), (b'posterboards', 1), (b'easels', 1), (b'set', 1), (b'up', 1), (b'classroom.', 1), (b'<p>Be', 1), (b'highlight', 1), (b'innovations,', 1), (b'findings,', 1), (b'takeaways.', 1), (b'Impress', 1), (b'us!', 1), (b'This', 1), (b'chance.', 1), (b'report</h4>', 1), (b'team', 1), (b'write', 1), (b'brief', 1), (b'(4-6', 1), (b'pages', 1), (b'ACM', 1), (b'format)', 1), (b'summarizing', 1), (b'proposal,', 1), (b'but', 1), (b'actual', 1), (b'things', 1), (b'actually', 1), (b'done:', 1), (b'<li>Introduction', 1), (b'background', 1), (b'motivation', 1), (b'Why', 1), (b'important?', 1), (b'<li>Related', 1), (b'there?', 1), (b'Include', 1), (b'links.', 1), (b'difference', 1), (b'propose?', 1), (b'<li>Proposed', 1), (b'methods', 1), (b'give', 1), (b'us', 1), (b'details', 1), (b'done.', 1), (b'<li>Evaluation', 1), (b'analysis', 1), (b'results', 1), (b'did', 1), (b'discover?', 1), (b'<li>Conclusions', 1), (b'was', 1), (b'challenging', 1), (b'project?', 1), (b'next?', 1), (b'open', 1), (b'issues?', 1), (b'When', 1), (b'also', 1), (b'include:', 1), (b'repository.', 1), (b'<li>The', 1), (b'data', 1), (b'(raw', 1), (b'possibly', 1), (b'link', 1), (b'cloud', 1), (b'storage', 1), (b'provider).', 1), (b'(PDF', 1), (b'similar).', 1), (b'<P>', 1), (b'</body>', 1), (b'</html>', 1)]\n"
     ]
    }
   ],
   "source": [
    "# your code here\n",
    "from bs4 import BeautifulSoup\n",
    "import operator\n",
    "\n",
    "wordlist = []\n",
    "# extract the words from the webpage\n",
    "with urllib.request.urlopen(url) as f:\n",
    "    for line in f.readlines():\n",
    "        for word in line.split():\n",
    "            wordlist.append(word)\n",
    "\n",
    "# count the frequency of each word\n",
    "wordfreq = []\n",
    "for word in wordlist:\n",
    "    wordfreq.append(wordlist.count(word))\n",
    "\n",
    "# pair the word the frequency, sort it in order of descending frequency\n",
    "worddict = dict(zip(wordlist, wordfreq))\n",
    "sorted_worddict = sorted(worddict.items(), key=operator.itemgetter(1), reverse = True)\n",
    "print(\"Pairs\\n\" + str(sorted_worddict))  \n",
    "\n",
    "# soup = BeautifulSoup(urllib.request.urlopen())\n",
    "# print(soup.get_text())\n"
   ]
  },
  {
   "cell_type": "code",
   "execution_count": null,
   "metadata": {},
   "outputs": [],
   "source": []
  }
 ],
 "metadata": {
  "anaconda-cloud": {},
  "kernelspec": {
   "display_name": "Python 3",
   "language": "python",
   "name": "python3"
  },
  "language_info": {
   "codemirror_mode": {
    "name": "ipython",
    "version": 3
   },
   "file_extension": ".py",
   "mimetype": "text/x-python",
   "name": "python",
   "nbconvert_exporter": "python",
   "pygments_lexer": "ipython3",
   "version": "3.6.8"
  }
 },
 "nbformat": 4,
 "nbformat_minor": 1
}
