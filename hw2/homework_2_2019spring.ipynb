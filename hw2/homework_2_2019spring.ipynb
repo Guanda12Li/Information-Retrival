{
 "cells": [
  {
   "cell_type": "markdown",
   "metadata": {},
   "source": [
    "#### CSCE 670 :: Information Storage and Retrieval :: Texas A&M University :: Spring 2019\n",
    "\n",
    "\n",
    "# Homework 2:   word2vec + SVM + Evaluation\n",
    "\n",
    "### 100 points [6% of your final grade]\n",
    "\n",
    "### Due: Tuesday, February 26, 2019 by 11:59pm\n",
    "\n",
    "*Goals of this homework:* Understand word2vec-like term embeddings,  explore real-world challenges with SVM-based classifiers, understand and implement several evaluation metrics.\n",
    "\n",
    "*Submission instructions (eCampus):* To submit your homework, rename this notebook as `UIN_hw2.ipynb`. For example, my homework submission would be something like `555001234_hw2.ipynb`. Submit this notebook via eCampus (look for the homework 2 assignment there). Your notebook should be completely self-contained, with the results visible in the notebook. We should not have to run any code from the command line, nor should we have to run your code within the notebook (though we reserve the right to do so). So please run all the cells for us, and then submit.\n",
    "\n",
    "*Late submission policy:* For this homework, you may use as many late days as you like (up to the 5 total allotted to you).\n",
    "\n",
    "*Collaboration policy:* You are expected to complete each homework independently. Your solution should be written by you without the direct aid or help of anyone else. However, we believe that collaboration and team work are important for facilitating learning, so we encourage you to discuss problems and general problem approaches (but not actual solutions) with your classmates. You may post on Piazza, search StackOverflow, etc. But if you do get help in this way, you must inform us by **filling out the Collaboration Declarations at the bottom of this notebook**. \n",
    "\n",
    "*Example: I found helpful code on stackoverflow at https://stackoverflow.com/questions/11764539/writing-fizzbuzz that helped me solve Problem 2.*\n",
    "\n",
    "The basic rule is that no student should explicitly share a solution with another student (and thereby circumvent the basic learning process), but it is okay to share general approaches, directions, and so on. If you feel like you have an issue that needs clarification, feel free to contact either me or the TA."
   ]
  },
  {
   "cell_type": "markdown",
   "metadata": {},
   "source": [
    "# Part 1: Term embeddings + SVM (80 points)"
   ]
  },
  {
   "cell_type": "markdown",
   "metadata": {},
   "source": [
    "### Dataset\n",
    "\n",
    "\n",
    "For this homework, we will still play with Yelp reviews from the [Yelp Dataset Challenge](https://www.yelp.com/dataset_challenge). As in Homework 1, you'll see that each line corresponds to a review on a particular business. Each review has a unique \"ID\" and the text content is in the \"review\" field. Additionally, this time, we also offer you the \"label\". If `label=1`, it means that this review is `Food-relevant`. If `label=0`, it means that this review is `Food-irrelevant`. Similarly, we have already done some basic preprocessing on the reviews, so you can just tokenize each review using whitespace.\n",
    "\n",
    "There are about 40,000 reviews in total, in which about 20,000 reviews are \"Food-irrelevant\". We split the review data into two sets. *review_train.json* is the training set. *review_test.json* is the testing set. "
   ]
  },
  {
   "cell_type": "code",
   "execution_count": 60,
   "metadata": {},
   "outputs": [],
   "source": [
    "import json\n",
    "import numpy as np\n",
    "from sklearn.svm import SVC\n",
    "import gensim\n",
    "import math\n"
   ]
  },
  {
   "cell_type": "code",
   "execution_count": 111,
   "metadata": {},
   "outputs": [],
   "source": [
    "# Please load the dataset\n",
    "# Your code below\n",
    "all_train_data = []\n",
    "all_test_data = []\n",
    "with open(\"review_train.json\") as f:\n",
    "    for line in f:\n",
    "        all_train_data.append(json.loads(line))\n",
    "        \n",
    "with open(\"review_test.json\") as f:\n",
    "    for line in f:\n",
    "        all_test_data.append(json.loads(line))\n",
    "\n"
   ]
  },
  {
   "cell_type": "markdown",
   "metadata": {},
   "source": [
    "###  Pre-trained term embeddings\n",
    "\n",
    "To save your time, you can make use of  pre-trained term embeddings. In this homework, we are using one of the great pre-trained models from [GloVe](https://nlp.stanford.edu/projects/glove/) based on 2 billion tweets. GloVe is quite similar to word2vec. Unzip the *glove.6B.50d.txt.zip* file and run the code below. You will be able to load the term embeddings model, with which each word can be represented with a 50-dimension vector."
   ]
  },
  {
   "cell_type": "code",
   "execution_count": 112,
   "metadata": {},
   "outputs": [],
   "source": [
    "# reload the pre-trained term embeddings\n",
    "\n",
    "with open(\"glove.6B.50d.txt\", \"rb\") as lines:\n",
    "    model = {line.split()[0].decode(encoding=\"utf-8\", errors=\"strict\"): np.array(list(map(float, line.split()[1:])))\n",
    "           for line in lines}"
   ]
  },
  {
   "cell_type": "markdown",
   "metadata": {},
   "source": [
    "Now, you have a vector representation for each word. First, we use the simple (arithmetic) **mean** of these vectors of words in a review to represent the review. *Note: Just ignore those words which are not in the corpus of this pre-trained model.*"
   ]
  },
  {
   "cell_type": "code",
   "execution_count": 113,
   "metadata": {},
   "outputs": [],
   "source": [
    "# Please figure out the vector representation for each review in the training data and testing data.\n",
    "# Your code below\n",
    "# get the vector for each review in trainning data and correponding labels\n",
    "def vector_for_review(review, model):\n",
    "    res = np.zeros(50)\n",
    "    count = 0;\n",
    "    for word in review:\n",
    "        if word in model:\n",
    "            res += model.get(word)\n",
    "            count += 1;\n",
    "    res /= count;\n",
    "    return res;\n",
    "\n",
    "train_data_vectors = np.zeros((len(all_train_data), 50))\n",
    "train_data_labels = np.zeros(len(all_train_data))\n",
    "train_data_reviews = []\n",
    "i = 0\n",
    "for train_data in all_train_data:\n",
    "    review = train_data.get(\"review\").split()\n",
    "    train_data[\"review_score\"] = vector_for_review(review, model)\n",
    "    train_data_vectors[i] = train_data[\"review_score\"]\n",
    "    train_data_labels[i] = train_data[\"label\"]\n",
    "    train_data_reviews.append(train_data.get(\"review\"))\n",
    "    i += 1\n"
   ]
  },
  {
   "cell_type": "code",
   "execution_count": 114,
   "metadata": {},
   "outputs": [],
   "source": [
    "# get the vector for each review in test data and correponding labels\n",
    "test_data_vectors = np.zeros((len(all_test_data), 50))\n",
    "test_data_labels = np.zeros(len(all_test_data))\n",
    "test_data_reviews = []\n",
    "i = 0\n",
    "for test_data in all_test_data:\n",
    "    review = test_data.get(\"review\").split()\n",
    "    test_data[\"review_score\"] = vector_for_review(review, model)\n",
    "    test_data_vectors[i] = test_data[\"review_score\"]\n",
    "    test_data_labels[i] = test_data[\"label\"]\n",
    "    test_data_reviews.append(test_data.get(\"review\"))\n",
    "    i += 1"
   ]
  },
  {
   "cell_type": "markdown",
   "metadata": {},
   "source": [
    "### SVM\n",
    "\n",
    "With the vector representations you get for each review, please train an SVM model to predict whether a given review is food-relevant or not. **You do not need to implement any classifier from scratch. You may use scikit-learn's built-in capabilities.** You can only train your model with reviews in *review_train.json*."
   ]
  },
  {
   "cell_type": "code",
   "execution_count": 115,
   "metadata": {},
   "outputs": [
    {
     "data": {
      "text/plain": [
       "SVC(C=1.0, cache_size=200, class_weight=None, coef0=0.0,\n",
       "  decision_function_shape='ovr', degree=3, gamma='scale', kernel='rbf',\n",
       "  max_iter=-1, probability=False, random_state=None, shrinking=True,\n",
       "  tol=0.001, verbose=False)"
      ]
     },
     "execution_count": 115,
     "metadata": {},
     "output_type": "execute_result"
    }
   ],
   "source": [
    "# SVM model training\n",
    "# Your code here\n",
    "# train the classifier using SVM\n",
    "clf_trained = SVC(gamma=\"scale\")\n",
    "clf_trained.fit(train_data_vectors, train_data_labels)\n",
    "\n"
   ]
  },
  {
   "cell_type": "markdown",
   "metadata": {},
   "source": [
    "Your goal is to predict whether a given review is food-relevant or not. Please report the overall accuracy, precision and recall of your model on the **testing data**. You should **implement the functions for accuracy, precision, and recall**."
   ]
  },
  {
   "cell_type": "code",
   "execution_count": 116,
   "metadata": {},
   "outputs": [],
   "source": [
    "# Your code here\n",
    "def getParameters(test_result, test_labels):\n",
    "    # given the predicted results for test data and true label, return TP, TN, FP, FN\n",
    "    TP = TN = FP = FN = 0\n",
    "    for i in range(len(test_labels)):\n",
    "        if test_labels[i] == 0 and test_result[i] == 0:\n",
    "            TN += 1\n",
    "        elif test_labels[i] == 0 and test_result[i] == 1:\n",
    "            FP += 1\n",
    "        elif test_labels[i] == 1 and test_result[i] == 1:\n",
    "            TP += 1\n",
    "        elif test_labels[i] == 1 and test_result[i] == 0:\n",
    "            FN += 1\n",
    "    return TP, TN, FP, FN\n",
    "            \n",
    "    \n",
    "    \n",
    "def getResult (TP, TN, FP, FN):\n",
    "    # given TP, TN, FP, FN, return accurancy, precision and recall\n",
    "    accurancy = (TP + TN) / (TP + TN + FP + FN)\n",
    "    precision = TP / (TP + FP)\n",
    "    recall = TP / (TP + FN)\n",
    "    return accurancy, precision, recall\n",
    "    \n",
    "    \n",
    "test_result = clf_trained.predict(test_data_vectors)\n",
    "TP, TN, FP, FN = getParameters(test_result, test_data_labels)\n",
    "accurancy, precision, recall = getResult(TP, TN, FP, FN)\n",
    "\n"
   ]
  },
  {
   "cell_type": "code",
   "execution_count": 134,
   "metadata": {},
   "outputs": [
    {
     "name": "stdout",
     "output_type": "stream",
     "text": [
      "Result using pre-trained term embeddings with SVM classifier\n",
      "\n",
      "accurancy:  0.9211409395973155\n",
      "precision:  0.9185482522160896\n",
      "recall:  0.9238015138772078\n"
     ]
    }
   ],
   "source": [
    "print(\"Result using pre-trained term embeddings with SVM classifier\\n\")\n",
    "print(\"accurancy: \", accurancy)\n",
    "print(\"precision: \", precision)\n",
    "print(\"recall: \", recall)\n",
    "\n"
   ]
  },
  {
   "cell_type": "markdown",
   "metadata": {},
   "source": [
    "### Document-based embeddings\n",
    "\n",
    "Instead of taking the mean of term embeddings, you can directly train a **doc2vec** model for paragraph or document embeddings. You can refer to the paper [Distributed Representations of Sentences and Documents](https://arxiv.org/pdf/1405.4053v2.pdf) for more details. And in this homework, you can make use of the implementation in [gensim](https://radimrehurek.com/gensim/models/doc2vec.html).\n",
    "\n",
    "Now, you need to:\n",
    "* Train a doc2vec model based on all reviews you have (training + testing sets).\n",
    "* Use the embeddings from your doc2vec model to represent each review and train a new SVM model.\n",
    "* Report the overall accuracy, precision and recall of your model on the testing data."
   ]
  },
  {
   "cell_type": "code",
   "execution_count": 118,
   "metadata": {},
   "outputs": [
    {
     "name": "stdout",
     "output_type": "stream",
     "text": [
      "CPU times: user 5min 33s, sys: 25.6 s, total: 5min 59s\n",
      "Wall time: 2min 33s\n"
     ]
    }
   ],
   "source": [
    "# Train a doc2vec\n",
    "# Your code here\n",
    "\n",
    "# train a doc2vec model using all reviews(training + testing)\n",
    "data_reviews = train_data_reviews + test_data_reviews\n",
    "documents = [gensim.models.doc2vec.TaggedDocument(gensim.utils.simple_preprocess(doc), [i]) for i, doc in enumerate(data_reviews)]\n",
    "model = gensim.models.doc2vec.Doc2Vec(documents, vector_size=50, window=2, min_count=1, workers=4, epochs=40)\n",
    "%time model = gensim.models.doc2vec.Doc2Vec(documents, vector_size=50, window=2, min_count=1, workers=4, epochs=40)\n"
   ]
  },
  {
   "cell_type": "code",
   "execution_count": 119,
   "metadata": {},
   "outputs": [],
   "source": [
    "# get the corpus after simple_preprocess for both train and test data\n",
    "def read_corpus(reviews):\n",
    "    for i, line in enumerate(reviews):\n",
    "        yield gensim.models.doc2vec.TaggedDocument(gensim.utils.simple_preprocess(line), [i])\n",
    "\n",
    "train_corpus = list(read_corpus(train_data_reviews))\n",
    "test_corpus = list(read_corpus(test_data_reviews))\n",
    "\n"
   ]
  },
  {
   "cell_type": "code",
   "execution_count": 120,
   "metadata": {},
   "outputs": [],
   "source": [
    "def get_vector (corpus, model):\n",
    "    # given corpus, using the model we trained to get corresponding embedding vectors\n",
    "    vec = np.zeros((len(corpus), 50))\n",
    "    i = 0\n",
    "    for corpu in corpus:\n",
    "        vec[i] = model.infer_vector(corpu.words)\n",
    "        i += 1\n",
    "    return vec\n",
    "    "
   ]
  },
  {
   "cell_type": "code",
   "execution_count": 121,
   "metadata": {},
   "outputs": [
    {
     "data": {
      "text/plain": [
       "SVC(C=1.0, cache_size=200, class_weight=None, coef0=0.0,\n",
       "  decision_function_shape='ovr', degree=3, gamma='scale', kernel='rbf',\n",
       "  max_iter=-1, probability=False, random_state=None, shrinking=True,\n",
       "  tol=0.001, verbose=False)"
      ]
     },
     "execution_count": 121,
     "metadata": {},
     "output_type": "execute_result"
    }
   ],
   "source": [
    "# Train a SVM\n",
    "# Your code here\n",
    "train_data_doc2vec_vec = get_vector(train_corpus, model)\n",
    "clf_doc2vec = SVC(gamma=\"scale\")\n",
    "clf_doc2vec.fit(train_data_doc2vec_vec, train_data_labels)\n",
    "\n"
   ]
  },
  {
   "cell_type": "code",
   "execution_count": 122,
   "metadata": {},
   "outputs": [],
   "source": [
    "# Predict the test set using the SVM classifier we just trained, and assess the model via accurancy, precision and recall\n",
    "test_data_doc2vec_vec = get_vector(test_corpus, model)\n",
    "test_doc2vec_result = clf_doc2vec.predict(test_data_doc2vec_vec)\n",
    "TP, TN, FP, FN = getParameters(test_doc2vec_result, test_data_labels)\n",
    "accurancy, precision, recall = getResult(TP, TN, FP, FN)"
   ]
  },
  {
   "cell_type": "code",
   "execution_count": 133,
   "metadata": {},
   "outputs": [
    {
     "name": "stdout",
     "output_type": "stream",
     "text": [
      "Result using self-trained doc2vec model for document embeddings\n",
      "\n",
      "accurancy:  0.9211409395973155\n",
      "precision:  0.9185482522160896\n",
      "recall:  0.9238015138772078\n"
     ]
    }
   ],
   "source": [
    "# Report the performance\n",
    "# Your code here\n",
    "print(\"Result using self-trained doc2vec model for document embeddings\\n\")\n",
    "print(\"accurancy: \", accurancy)\n",
    "print(\"precision: \", precision)\n",
    "print(\"recall: \", recall)\n"
   ]
  },
  {
   "cell_type": "markdown",
   "metadata": {},
   "source": [
    "What do you observe? How different are your results for the term-based average approach vs. the doc2vec approach? Why do you think this is?"
   ]
  },
  {
   "cell_type": "markdown",
   "metadata": {},
   "source": [
    "*provide a brief (1-2 paragraph) discussion based on these questions.*"
   ]
  },
  {
   "cell_type": "markdown",
   "metadata": {},
   "source": [
    "### Can you do better?\n",
    "\n",
    "Finally, see if you can do better than either the word- or doc- based embeddings approach for classification. You may explore new features, new classifiers, etc. Whatever you like. Just provide your code and a justification."
   ]
  },
  {
   "cell_type": "code",
   "execution_count": null,
   "metadata": {},
   "outputs": [],
   "source": [
    "# your code here\n",
    "from sklearn.neighbors import NearestNeighbors\n",
    "nbrs = NearestNeighbors(n_neighbors=2, algorithm='ball_tree')\n",
    "nbrs.fit"
   ]
  },
  {
   "cell_type": "markdown",
   "metadata": {},
   "source": [
    "# Part 2: NDCG (20 points)\n",
    "\n",
    "You calculated the recall and precision in Part 1 and now you get a chance to implement NDCG. \n",
    "\n",
    "Assume that Amy searches for \"food-relevant\" reviews in the **testing set** on two search engines `A` and `B`. Since the ground-truth labels for the reviews are unknown to A and B, they need to make a prediction for each review and then return a ranked list of results based on their probabilities. The results from A are in *search_result_A.json*, and the results from B are in *search_result_B.json*. Each line contains the id of a review and its corresponding ranking.\n",
    "\n",
    "You can check their labels in *review_test.json* while calculating the NDCG scores. If a review is \"food-relevant\", the relevance score is 1. Otherwise, the relevance score is 0."
   ]
  },
  {
   "cell_type": "code",
   "execution_count": 124,
   "metadata": {},
   "outputs": [],
   "source": [
    "# read the given json files\n",
    "search_result_A = []\n",
    "search_result_B = []\n",
    "with open(\"search_result_A.json\") as f:\n",
    "    for line in f:\n",
    "        search_result_A.append(json.loads(line))\n",
    "\n",
    "with open(\"search_result_B.json\") as f:\n",
    "    for line in f:\n",
    "        search_result_B.append(json.loads(line))\n",
    "\n"
   ]
  },
  {
   "cell_type": "code",
   "execution_count": 125,
   "metadata": {},
   "outputs": [],
   "source": [
    "def DCG_score(rel, i):\n",
    "    # calculate the DCG Score, given rel, i\n",
    "    return rel / (math.log2(i + 1));\n",
    "\n",
    "def id_rel(datas):\n",
    "    # mapping the id with label\n",
    "    id_rel = {}\n",
    "    for data in datas:\n",
    "        id_rel[data.get(\"id\")] = data.get(\"label\")\n",
    "    return id_rel\n"
   ]
  },
  {
   "cell_type": "code",
   "execution_count": 126,
   "metadata": {},
   "outputs": [],
   "source": [
    "# preprocess the data, given a id we know the relevant \n",
    "test_id2rel = id_rel(all_test_data)"
   ]
  },
  {
   "cell_type": "code",
   "execution_count": 127,
   "metadata": {},
   "outputs": [
    {
     "name": "stdout",
     "output_type": "stream",
     "text": [
      "505.3979278728301 521.4752244965487 0.96916958684041\n"
     ]
    }
   ],
   "source": [
    "# NDCG for search_result_A.json\n",
    "# Your code here\n",
    "DCG_A = 0\n",
    "for result in search_result_A:\n",
    "    # calculate the DCG first\n",
    "    cur_id = result.get(\"id\")\n",
    "    rel = test_id2rel.get(cur_id)\n",
    "    DCG_A += DCG_score(rel, result.get(\"rank\"))\n",
    "\n",
    "IDCG_A = 0\n",
    "new_rank = 1\n",
    "for result in search_result_A:\n",
    "    # then calculate the IDCG\n",
    "    cur_id = result.get(\"id\")\n",
    "    if test_id2rel.get(cur_id) == 1:\n",
    "        IDCG_A += DCG_score(1, new_rank)\n",
    "        new_rank += 1\n",
    "\n",
    "NDCG_A = DCG_A / IDCG_A\n",
    "print(DCG_A, IDCG_A, NDCG_A)\n",
    "\n"
   ]
  },
  {
   "cell_type": "code",
   "execution_count": 128,
   "metadata": {},
   "outputs": [
    {
     "name": "stdout",
     "output_type": "stream",
     "text": [
      "121.34577387849328 121.68560167059829 0.9972073294831962\n"
     ]
    }
   ],
   "source": [
    "# NDCG for search_result_B.json\n",
    "# Your code here\n",
    "DCG_B = 0\n",
    "for result in search_result_B:\n",
    "    cur_id = result.get(\"id\")\n",
    "    rel = test_id2rel.get(cur_id)\n",
    "    DCG_B += DCG_score(rel, result.get(\"rank\"))\n",
    "\n",
    "IDCG_B = 0\n",
    "new_rank = 1\n",
    "for result in search_result_B:\n",
    "    cur_id = result.get(\"id\")\n",
    "    if test_id2rel.get(cur_id) == 1:\n",
    "        IDCG_B += DCG_score(1, new_rank)\n",
    "        new_rank += 1\n",
    "\n",
    "NDCG_B = DCG_B / IDCG_B\n",
    "print(DCG_B, IDCG_B, NDCG_B)\n"
   ]
  },
  {
   "cell_type": "markdown",
   "metadata": {},
   "source": [
    "## Collaboration declarations"
   ]
  },
  {
   "cell_type": "markdown",
   "metadata": {},
   "source": [
    "*If you collaborated with anyone (see Collaboration policy at the top of this homework), you can put your collaboration declarations here.*"
   ]
  },
  {
   "cell_type": "code",
   "execution_count": null,
   "metadata": {},
   "outputs": [],
   "source": []
  }
 ],
 "metadata": {
  "kernelspec": {
   "display_name": "Python 3",
   "language": "python",
   "name": "python3"
  },
  "language_info": {
   "codemirror_mode": {
    "name": "ipython",
    "version": 3
   },
   "file_extension": ".py",
   "mimetype": "text/x-python",
   "name": "python",
   "nbconvert_exporter": "python",
   "pygments_lexer": "ipython3",
   "version": "3.6.8"
  }
 },
 "nbformat": 4,
 "nbformat_minor": 2
}
