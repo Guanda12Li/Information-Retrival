{
 "cells": [
  {
   "cell_type": "markdown",
   "metadata": {},
   "source": [
    "#### CSCE 670 :: Information Storage and Retrieval :: Texas A&M University :: Spring 2019\n",
    "\n",
    "\n",
    "# Homework 1:  Modeling Text + Link Analysis + SEO\n",
    "\n",
    "### 100 points [6% of your final grade]\n",
    "\n",
    "### Due: Monday, February 8, 2019 by 11:59pm\n",
    "\n",
    "*Goals of this homework:* Understand the vector space model (TF-IDF, cosine) + BM25 works in searching. Explore real-world challenges of building a graph (in this case, from Epinions), implement and test the classic HITS algorithm over this graph. Experiment with real-world search engine optimization techniques.\n",
    "\n",
    "*Submission instructions (eCampus):* To submit your homework, rename this notebook as `UIN_hw1.ipynb`. For example, my homework submission would be something like `555001234_hw1.ipynb`. Submit this notebook via eCampus (look for the homework 1 assignment there). Your notebook should be completely self-contained, with the results visible in the notebook. We should not have to run any code from the command line, nor should we have to run your code within the notebook (though we reserve the right to do so). So please run all the cells for us, and then submit.\n",
    "\n",
    "*Late submission policy:* For this homework, you may use as many late days as you like (up to the 5 total allotted to you).\n",
    "\n",
    "*Collaboration policy:* You are expected to complete each homework independently. Your solution should be written by you without the direct aid or help of anyone else. However, we believe that collaboration and team work are important for facilitating learning, so we encourage you to discuss problems and general problem approaches (but not actual solutions) with your classmates. You may post on Piazza, search StackOverflow, etc. But if you do get help in this way, you must inform us by **filling out the Collaboration Declarations at the bottom of this notebook**. \n",
    "\n",
    "*Example: I found helpful code on stackoverflow at https://stackoverflow.com/questions/11764539/writing-fizzbuzz that helped me solve Problem 2.*\n",
    "\n",
    "The basic rule is that no student should explicitly share a solution with another student (and thereby circumvent the basic learning process), but it is okay to share general approaches, directions, and so on. If you feel like you have an issue that needs clarification, feel free to contact either me or the TA."
   ]
  },
  {
   "cell_type": "markdown",
   "metadata": {},
   "source": [
    "# Part 1: Modeling Text (50 points)"
   ]
  },
  {
   "cell_type": "markdown",
   "metadata": {},
   "source": [
    "### TF-IDF\n",
    "\n",
    "\n",
    "First, you will need to download the review.json file from the Resources tab on Piazza, a collection of about 7,000 Yelp reviews we sampled from the [Yelp Dataset Challenge](https://www.yelp.com/dataset_challenge). You'll see that each line corresponds to a review on a particular business. Each review has a unique \"ID\" and the text content is in the \"review\" field. You need to load the json file first. We already have done some basic preprocessing on the reviews, so you can just tokenize each review using whitespace."
   ]
  },
  {
   "cell_type": "markdown",
   "metadata": {},
   "source": [
    "Here you can treat each review as a document. Given a query, you need to calculate its TF-IDF score in each review.  For this homework, we will define the TF-IDF as follows:"
   ]
  },
  {
   "cell_type": "markdown",
   "metadata": {},
   "source": [
    "`TF = number of times word occurs in a document`\n",
    "\n",
    "`IDF = log(total number of documents / number of documents containing the word)`"
   ]
  },
  {
   "cell_type": "markdown",
   "metadata": {},
   "source": [
    "### A) Ranking with simple sums of TF-IDF scores\n",
    "\n",
    "To start out with, for a multi-word query, we will rank documents by a simple sum of the TF-IDF scores for the query terms in the document. \n",
    "\n",
    "Please calculate this TF-IDF sum score for queries `\"best bbq\"` and `\"kid fun and food\"`. You need to report the Top-10 reviews with highest TF-IDF scores for each query. Your output should look like this:"
   ]
  },
  {
   "cell_type": "markdown",
   "metadata": {},
   "source": [
    "Query \"best bbq\"\n",
    "\n",
    "Rank Review_ID score\n",
    "\n",
    "1 dhskfhjskfhs 0.55555\n",
    "\n",
    "...\n",
    "\n",
    "\n",
    "\n",
    "Query \"kid fun and food\"\n",
    "\n",
    "Rank Review_ID score\n",
    "\n",
    "1 dhskfhjskfhs 0.55555\n",
    "\n",
    "..."
   ]
  },
  {
   "cell_type": "code",
   "execution_count": 49,
   "metadata": {},
   "outputs": [
    {
     "name": "stdout",
     "output_type": "stream",
     "text": [
      "best 0.8511875910514064\n",
      "bbq 1.9050888219269386\n",
      "kid 1.8898488553702018\n",
      "fun 1.3017382071174817\n",
      "and 0.05194128559950884\n",
      "food 0.561258378180342\n",
      "best 0\n",
      "bbq 6\n",
      "kid 0\n",
      "fun 0\n",
      "and 7\n",
      "food 3\n",
      "actually i d put it at 4 1 2 stars not perfect but prety good food can t say i m an alice cooper fan but we did see this on man vs food and the opportunity came up to go there we stopped in mid week for lunch not crowded the bar tender was great attentive personable good recommendations on food but not intrusive my wife had the lady gaga sausage appetizer fantastic sausage spicy great sauce served with celery stalks and bleu cheese optional she likes a good sausage let s leave it at that and alice cooper delivered since the bartender claimed the place is a bbq house i went with a bbq beef sandwich with chili and fries for the sides while the pig in me would have wanted more of everything it was the perfect size for lunch the brisket was done perfectly we travel with a smoker so i know a little about bbq the bbq sauce is very good i d like it spicier but i always do the sauce is multidimensional with some real depth to the bench it s not a one trick pony bbq sauce the sauce is also not thick like ketchup it s definitely not off the shelf the chili two words a mazing a few weeks ago we were at a chili cook off cooper s town chili would have kicked some butt again could have been spicier but there was some heat and there was lots of flavor could definitely taste a hint of the bbq sauce cumin and chili saw what looked like slices of anaheim or serrano pepper and it has beans again seems to not have any thickener in it i appreciate that a clean flavor next time the chili burger will be ordered the side portion is just too damn small this stuff is good prices are decent lunch for the 2 of us for just over 20 can t complain about that the decor is nice cool memorabilia autographs on the wall definitely a sports bar with huge damn screens nice place nice time thanks \n",
      "11.430532931561633\n"
     ]
    }
   ],
   "source": [
    "# Your code here\n",
    "import numpy as np\n",
    "import json\n",
    "from operator import itemgetter\n",
    "import math\n",
    "\n",
    "documents = []\n",
    "with open('review.json') as f:\n",
    "    for line in f:\n",
    "        documents.append(json.loads(line))\n",
    "\n",
    "\n",
    "# calculate the idf weight for these terms in each query\n",
    "queryOne = [\"best\", \"bbq\"]\n",
    "queryTwo = [\"kid\", \"fun\", \"and\", \"food\"]\n",
    "\n",
    "# calculate number of documents in contain that term\n",
    "idf_queryOne_document = []\n",
    "idf_queryTwo_document = []\n",
    "\n",
    "def idf(term, documents):\n",
    "    size = len(documents)\n",
    "    occurance = 0\n",
    "    for document in documents:\n",
    "        review = document.get(\"review\")\n",
    "        review = review.split()\n",
    "        if term in review:\n",
    "            occurance += 1\n",
    "    return math.log10(size / occurance)\n",
    "\n",
    "\n",
    "for term in queryOne:\n",
    "    idf_queryOne_document.append(idf(term, documents))\n",
    "    print(term, idf(term, documents))\n",
    "    \n",
    "    \n",
    "for term in queryTwo:\n",
    "    idf_queryTwo_document.append(idf(term, documents))\n",
    "    print(term, idf(term, documents))\n",
    "    \n",
    "\n",
    "    \n",
    "# calculate the TF for each review, and then get the TF-IDF score\n",
    "\n",
    "\n",
    "for document in documents:\n",
    "    review = document.get(\"review\")\n",
    "    review = review.split()\n",
    "    tempTF_IDF = 0;\n",
    "    for i in range(len(queryOne)):\n",
    "        term = queryOne[i]\n",
    "        TF = review.count(term)\n",
    "        if document.get(\"id\") == \"YbQvHNrjZJ38mnh5rLuq7w\":\n",
    "            print(term, TF)\n",
    "        tempTF_IDF += (TF * idf_queryOne_document[i])  #math.pow(TF * IDF_queryOne[i], 2)\n",
    "    document[\"TF-IDF-One\"] = tempTF_IDF #math.sqrt(tempTF_IDF)  #tempTF_IDF\n",
    "    \n",
    "for document in documents:\n",
    "    review = document.get(\"review\")\n",
    "    review = review.split()\n",
    "    tempTF_IDF = 0;\n",
    "    for i in range(len(queryTwo)):\n",
    "        term = queryTwo[i]\n",
    "        TF = review.count(term)\n",
    "        if document.get(\"id\") == \"YbQvHNrjZJ38mnh5rLuq7w\":\n",
    "            print(term, TF)\n",
    "        tempTF_IDF += (TF * idf_queryTwo_document[i])  #math.pow(TF * IDF_queryTwo[i], 2)\n",
    "    document[\"TF-IDF-Two\"] = tempTF_IDF#math.sqrt(tempTF_IDF)\n",
    "    \n",
    "\n",
    "\n"
   ]
  },
  {
   "cell_type": "code",
   "execution_count": 40,
   "metadata": {},
   "outputs": [
    {
     "name": "stdout",
     "output_type": "stream",
     "text": [
      "Query \"best bbq\"\n",
      "Rank  Review_ID              score\n",
      "0     YbQvHNrjZJ38mnh5rLuq7w 11.430532931561633\n",
      "1     P31kXP4oan6ZQm69TN6tIA 9.525444109634693\n",
      "2     x5esEK6J9XkA_vbvVbG8Gg 8.471542878759161\n",
      "3     mWs26TrBM7ogwCM9UfVJFg 7.6203552877077545\n",
      "4     NCfX4AxDvQ3QRyXKtmhVwQ 7.6203552877077545\n",
      "5     e5INq6DAZn2zMHicKQl07Q 6.566454056832223\n",
      "6     4WTG1-9mw8YHEyaTu8dQww 6.566454056832223\n",
      "7     x3n_l3GhBx78y6jWX4fStg 5.958313137359845\n",
      "8     Wp8jYXL1DQrgrnZIFmufFg 5.715266465780816\n",
      "9     jrEx93eYKIjCW2nrkwjZpQ 5.715266465780816\n"
     ]
    }
   ],
   "source": [
    "# Show us the result for \"best bbq\"\n",
    "sortedDocument = sorted(documents, key=itemgetter('TF-IDF-One'), reverse=True)\n",
    "print('Query \"best bbq\"')\n",
    "print('Rank  Review_ID              score')\n",
    "# Rank Review_ID score\n",
    "for i in range(10):\n",
    "    ID = sortedDocument[i].get(\"id\")\n",
    "    score_one = sortedDocument[i].get(\"TF-IDF-One\")\n",
    "    print(i, \"   \", ID, score_one)"
   ]
  },
  {
   "cell_type": "code",
   "execution_count": 14,
   "metadata": {},
   "outputs": [
    {
     "name": "stdout",
     "output_type": "stream",
     "text": [
      "Query \"kid fun and food\"\n",
      "Rank  Review_ID              score\n",
      "0     7o_hciiXEMNQkXfVl0F0XQ 9.641872501183393\n",
      "1     JKLUXUovJCU6kbcdin74NQ 8.692007941255747\n",
      "2     IA8TOfGKI-Il-70BsB6HgA 8.132369151667877\n",
      "3     Kytq1NbFIDDCXUculSqT8g 7.2912649956941475\n",
      "4     MF6rPRx9jz-g8S5P_ZIdyg 7.080045177182006\n",
      "5     bjoedmJ4_DZP5JnfXVaC-w 6.825484846867428\n",
      "6     I00B-QG5uTKvwCK7x9ejeA 6.8021590858855445\n",
      "7     BVGRJgDJGEhSfgIPCan7vQ 6.721602275668411\n",
      "8     wMB3cI3-xhxM_BpmppY9RQ 6.425196423168579\n",
      "9     vTGDEQGp6EPlwdMJUnTb7A 6.0414680741761755\n"
     ]
    }
   ],
   "source": [
    "# Show us the result for \"kid fun and food\"\n",
    "sortedData = sorted(documents, key=itemgetter('TF-IDF-Two'), reverse=True)\n",
    "print('Query \"kid fun and food\"')\n",
    "print('Rank  Review_ID              score')\n",
    "# Rank Review_ID score\n",
    "for i in range(10):\n",
    "    ID = sortedData[i].get(\"id\")\n",
    "    score_two = sortedData[i].get(\"TF-IDF-Two\")\n",
    "    print(i, \"   \", ID, score_two)\n"
   ]
  },
  {
   "cell_type": "markdown",
   "metadata": {},
   "source": [
    "### B) Ranking with TF-IDF + Cosine\n",
    "\n",
    "Instead of using the sum of TF-IDF scores, let's try the classic cosine approach for ranking. You should still use the TF-IDF scores to weigh each term, but now use the cosine between the query vector and the document vector to assign a similarity score. You can try the same two queries as before and report the results. (Top-10 reviews which are similar to the query)"
   ]
  },
  {
   "cell_type": "code",
   "execution_count": 35,
   "metadata": {},
   "outputs": [
    {
     "name": "stdout",
     "output_type": "stream",
     "text": [
      "best ['every', 'time', 'i', 'go', 'horrible', 'stale', 'taco', 'shells', 'hard', 'uncooked', 'beans', 'need', 'i', 'go', 'on', 'stay', 'clear', 'of', 'this', 'taco', 'bell']\n",
      "bbq ['every', 'time', 'i', 'go', 'horrible', 'stale', 'taco', 'shells', 'hard', 'uncooked', 'beans', 'need', 'i', 'go', 'on', 'stay', 'clear', 'of', 'this', 'taco', 'bell']\n"
     ]
    },
    {
     "ename": "ZeroDivisionError",
     "evalue": "float division by zero",
     "output_type": "error",
     "traceback": [
      "\u001b[0;31m---------------------------------------------------------------------------\u001b[0m",
      "\u001b[0;31mZeroDivisionError\u001b[0m                         Traceback (most recent call last)",
      "\u001b[0;32m<ipython-input-35-b549fc5b5b0e>\u001b[0m in \u001b[0;36m<module>\u001b[0;34m\u001b[0m\n\u001b[1;32m     44\u001b[0m         \u001b[0mprint\u001b[0m\u001b[0;34m(\u001b[0m\u001b[0mterm\u001b[0m\u001b[0;34m,\u001b[0m \u001b[0mreview\u001b[0m\u001b[0;34m)\u001b[0m\u001b[0;34m\u001b[0m\u001b[0;34m\u001b[0m\u001b[0m\n\u001b[1;32m     45\u001b[0m         \u001b[0mk\u001b[0m \u001b[0;34m+=\u001b[0m \u001b[0;36m1\u001b[0m\u001b[0;34m\u001b[0m\u001b[0;34m\u001b[0m\u001b[0m\n\u001b[0;32m---> 46\u001b[0;31m     \u001b[0mdocument\u001b[0m\u001b[0;34m[\u001b[0m\u001b[0;34m\"cosine_one\"\u001b[0m\u001b[0;34m]\u001b[0m \u001b[0;34m=\u001b[0m \u001b[0;34m(\u001b[0m\u001b[0ma\u001b[0m \u001b[0;34m/\u001b[0m \u001b[0;34m(\u001b[0m\u001b[0mmath\u001b[0m\u001b[0;34m.\u001b[0m\u001b[0msqrt\u001b[0m\u001b[0;34m(\u001b[0m\u001b[0mb\u001b[0m\u001b[0;34m)\u001b[0m \u001b[0;34m*\u001b[0m \u001b[0mmath\u001b[0m\u001b[0;34m.\u001b[0m\u001b[0msqrt\u001b[0m\u001b[0;34m(\u001b[0m\u001b[0mc\u001b[0m\u001b[0;34m)\u001b[0m\u001b[0;34m)\u001b[0m\u001b[0;34m)\u001b[0m\u001b[0;34m\u001b[0m\u001b[0;34m\u001b[0m\u001b[0m\n\u001b[0m\u001b[1;32m     47\u001b[0m \u001b[0;34m\u001b[0m\u001b[0m\n\u001b[1;32m     48\u001b[0m \u001b[0;34m\u001b[0m\u001b[0m\n",
      "\u001b[0;31mZeroDivisionError\u001b[0m: float division by zero"
     ]
    }
   ],
   "source": [
    "# Your code here\n",
    "\n",
    "def idf_query(term, documents):\n",
    "    size = len(documents)\n",
    "    occurance = 0\n",
    "    for document in documents:\n",
    "        if term in document:\n",
    "            occurance += 1\n",
    "    return math.log10(size / occurance)       \n",
    "\n",
    "    \n",
    "    \n",
    "queries = [queryOne, queryTwo]\n",
    "idf_queryOne_query = []\n",
    "idf_queryTwo_query = []\n",
    "\n",
    "\n",
    "for term in queryOne:\n",
    "    idf_queryOne_query.append(idf_query(term, queries))\n",
    "\n",
    "for term in queryTwo:\n",
    "    idf_queryTwo_query.append(idf_query(term, queries))\n",
    "    \n",
    "def tf_idf_score(idf_query, document, term, i):\n",
    "    tf = document.count(term)\n",
    "    idf = idf_query[i]\n",
    "    return tf * idf\n",
    "\n",
    "k = 0\n",
    "for document in documents:\n",
    "    review = document.get(\"review\").split()\n",
    "    #  cosine = a / b * c ---> a = sum of tf_idf_query * tf_idf_document  b = math.sqrt(sum of tf_idf_query ** 2)\n",
    "    #                          c = math.sqrt(sum of tf_idf_document ** 2)\n",
    "    a = 0\n",
    "    b = 0\n",
    "    c = 0\n",
    "    for i in range(len(queryOne)):\n",
    "        term = queryOne[i]\n",
    "        tf_idf_query = tf_idf_score(idf_queryOne_query, queryOne, term, i)\n",
    "        tf_idf_document = tf_idf_score(idf_queryOne_document, review, term, i)\n",
    "        a += (tf_idf_query * tf_idf_document)\n",
    "        b += (tf_idf_query ** 2)\n",
    "        c += (tf_idf_document ** 2)\n",
    "        print(term, review)\n",
    "        k += 1\n",
    "    document[\"cosine_one\"] = (a / (math.sqrt(b) * math.sqrt(c)))\n",
    "\n",
    "\n",
    "for document in documents:\n",
    "    review = document.get(\"review\").split()\n",
    "    #  cosine = a / b * c ---> a = sum of tf_idf_query * tf_idf_document  b = math.sqrt(sum of tf_idf_query ** 2)\n",
    "    #                          c = math.sqrt(sum of tf_idf_document ** 2)\n",
    "    a = 0\n",
    "    b = 0\n",
    "    c = 0\n",
    "    for i in range(len(queryTwo)):\n",
    "        term = queryTwo[i]\n",
    "        tf_idf_query = tf_idf_score(idf_queryTwo_query, queryTwo, term, i)\n",
    "        tf_idf_document = tf_idf_score(idf_queryTwo_document, review, term, i)\n",
    "        a += (tf_idf_query * tf_idf_document)\n",
    "        b += (tf_idf_query ** 2)\n",
    "        c += (tf_idf_document ** 2)\n",
    "    document[\"cosine_two\"] = a / (math.sqrt(b) * math.sqrt(c))\n",
    "    \n",
    "\n",
    "    \n",
    "\n",
    "\n",
    "\n",
    "\n",
    "    \n",
    "    \n",
    "\n",
    "\n"
   ]
  },
  {
   "cell_type": "code",
   "execution_count": 28,
   "metadata": {},
   "outputs": [
    {
     "name": "stdout",
     "output_type": "stream",
     "text": [
      "Query \"best bbq\"\n",
      "Rank  Review_ID              score\n",
      "0     YbQvHNrjZJ38mnh5rLuq7w 18.985704242444896\n",
      "1     P31kXP4oan6ZQm69TN6tIA 15.82142020203741\n",
      "2     x5esEK6J9XkA_vbvVbG8Gg 14.070928147996511\n",
      "3     mWs26TrBM7ogwCM9UfVJFg 12.657136161629928\n",
      "4     NCfX4AxDvQ3QRyXKtmhVwQ 12.657136161629928\n",
      "5     e5INq6DAZn2zMHicKQl07Q 10.90664410758903\n",
      "6     4WTG1-9mw8YHEyaTu8dQww 10.90664410758903\n",
      "7     x3n_l3GhBx78y6jWX4fStg 9.896543904566064\n",
      "8     Wp8jYXL1DQrgrnZIFmufFg 9.492852121222448\n",
      "9     jrEx93eYKIjCW2nrkwjZpQ 9.492852121222448\n"
     ]
    }
   ],
   "source": [
    "# Show us the result for \"best bbq\"\n",
    "sortedData = sorted(documents, key=itemgetter('cosine_one'), reverse=True)\n",
    "print('Query \"best bbq\"')\n",
    "print('Rank  Review_ID              score')\n",
    "# Rank Review_ID score\n",
    "for i in range(10):\n",
    "    ID = sortedData[i].get(\"id\")\n",
    "    score_two = sortedData[i].get(\"cosine_one\")\n",
    "    print(i, \"   \", ID, score_two)\n",
    "\n"
   ]
  },
  {
   "cell_type": "code",
   "execution_count": 19,
   "metadata": {},
   "outputs": [
    {
     "name": "stdout",
     "output_type": "stream",
     "text": [
      "Query \"kid fun and food\"\n",
      "Rank  Review_ID              score\n",
      "0     7o_hciiXEMNQkXfVl0F0XQ 8.00740178725075\n",
      "1     JKLUXUovJCU6kbcdin74NQ 7.218556345260381\n",
      "2     IA8TOfGKI-Il-70BsB6HgA 6.753786390730205\n",
      "3     Kytq1NbFIDDCXUculSqT8g 6.055264509116293\n",
      "4     MF6rPRx9jz-g8S5P_ZIdyg 5.879850246788169\n",
      "5     bjoedmJ4_DZP5JnfXVaC-w 5.668442468509218\n",
      "6     I00B-QG5uTKvwCK7x9ejeA 5.649070843324132\n",
      "7     BVGRJgDJGEhSfgIPCan7vQ 5.58216986055043\n",
      "8     wMB3cI3-xhxM_BpmppY9RQ 5.336010128323373\n",
      "9     vTGDEQGp6EPlwdMJUnTb7A 5.017330632492722\n"
     ]
    }
   ],
   "source": [
    "# Show us the result for \"kid fun and food\"\n",
    "sortedData = sorted(documents, key=itemgetter('cosine_two'), reverse=True)\n",
    "print('Query \"kid fun and food\"')\n",
    "print('Rank  Review_ID              score')\n",
    "# Rank Review_ID score\n",
    "for i in range(10):\n",
    "    ID = sortedData[i].get(\"id\")\n",
    "    score_two = sortedData[i].get(\"cosine_two\")\n",
    "    print(i, \"   \", ID, score_two)\n",
    "\n"
   ]
  },
  {
   "cell_type": "markdown",
   "metadata": {},
   "source": [
    "### C) Ranking with BM25\n",
    "\n",
    "Finally, let's try the BM25 approach for ranking. Refer to [https://en.wikipedia.org/wiki/Okapi_BM25](https://en.wikipedia.org/wiki/Okapi_BM25) for the specific formula. You should choose k_1 = 1.2 and b = 0.75. You need to report the Top-10 reviews with highest BM25 scores for each query.\n"
   ]
  },
  {
   "cell_type": "code",
   "execution_count": null,
   "metadata": {},
   "outputs": [],
   "source": [
    "# Your code here\n",
    "\n"
   ]
  },
  {
   "cell_type": "code",
   "execution_count": null,
   "metadata": {},
   "outputs": [],
   "source": [
    "# Show us the result for \"best bbq\"\n",
    "\n"
   ]
  },
  {
   "cell_type": "code",
   "execution_count": null,
   "metadata": {},
   "outputs": [],
   "source": [
    "# Show us the result for \"kid fun and food\"\n",
    "\n"
   ]
  },
  {
   "cell_type": "markdown",
   "metadata": {},
   "source": [
    "Briefly discuss the differences you see between the three methods. Is there one you prefer? "
   ]
  },
  {
   "cell_type": "markdown",
   "metadata": {},
   "source": [
    "*add your discussion here*"
   ]
  },
  {
   "cell_type": "markdown",
   "metadata": {},
   "source": [
    "# Part 2: Link Analysis (40 points)"
   ]
  },
  {
   "cell_type": "markdown",
   "metadata": {},
   "source": [
    "## A Trust Graph\n",
    "\n",
    "\n",
    "In this part, we're going to adapt the classic HITS approach to allow us to find not the most authoritative web pages, but rather to find the most trustworthy users. [Epinions.com](https://snap.stanford.edu/data/soc-Epinions1.html) is a general consumer review site with a who-trust-whom online social network. Members of the site can decide whether to ''trust'' each other. All the trust relationships interact and form the Web of Trust which is then combined with review ratings to determine which reviews are shown to the user. (Refer to: Richardson, Matthew, Rakesh Agrawal, and Pedro Domingos. \"Trust management for the semantic web.\" International semantic Web conference. Springer, Berlin, Heidelberg, 2003.)\n",
    "\n",
    "So, instead of viewing the world as web pages with hyperlinks (where pages = nodes, hyperlinks = edges), we're going to construct a graph of Epinions users and their \"trust\" on other users (so user = node, trust behavior = edge). Over this Epinions-user graph, we can apply the HITS approach to order the users by their hub-ness and their authority-ness.\n",
    "\n",
    "You need to download the *Epinions_trust.txt* file from the Resources tab on Piazza. Each line represents the trust relationship between two users. Here is a toy example. Suppose you are given the following four lines:\n",
    "\n",
    "* diane trust bob\n",
    "* charlie trust bob \n",
    "* charlie trust alice\n",
    "* bob trust charlie\n",
    "\n",
    "The \"trust\" between each user pair denotes a directed edge between two nodes. E.g., the \"diane\" node has a directed edge to the \"bob\" node (as indicated by the first line). \n",
    "\n",
    "You should build a graph by parsing the data in the file we provide called *Epinions_trust.txt*. (Note: The edges are binary and directed.)\n",
    "\n",
    "**Notes:**\n",
    "\n",
    "* The edges are binary and directed.\n",
    "* User can't trust himself/herself.\n",
    "* Later you will need to implement the HITS algorithm on the graph you build here."
   ]
  },
  {
   "cell_type": "code",
   "execution_count": null,
   "metadata": {},
   "outputs": [],
   "source": [
    "# Here define your function for building the graph \n",
    "# by parsing the input file \n",
    "# Insert as many cells as you want\n"
   ]
  },
  {
   "cell_type": "markdown",
   "metadata": {},
   "source": [
    "Please show us the size of the graph, i.e., the number of nodes and edges\n"
   ]
  },
  {
   "cell_type": "code",
   "execution_count": null,
   "metadata": {},
   "outputs": [],
   "source": [
    "# Call your function to print out the size of the graph\n",
    "# How you maintain the graph is totally up to you\n"
   ]
  },
  {
   "cell_type": "markdown",
   "metadata": {},
   "source": [
    "## HITS Implementation\n",
    "\n",
    "Your program will return the top 10 users with highest hub and authority scores. The **output** should be like:\n",
    "\n",
    "Hub Scores\n",
    "\n",
    "* user1 - score1\n",
    "* user2 - score2\n",
    "* ...\n",
    "* user10 - score10\n",
    "\n",
    "Authority Scores\n",
    "\n",
    "* user1 - score1\n",
    "* user2 - score2\n",
    "* ...\n",
    "* user10 - score10\n",
    "\n",
    "You should follow these **rules**:\n",
    "\n",
    "* Assume all nodes start out with equal scores.\n",
    "* It is up to you to decide when to terminate the HITS calculation.\n",
    "* There are HITS implementations out there on the web. However, remember, your code should be **your own**.\n",
    "\n",
    "\n",
    "**Hints**:\n",
    "* If you're using the matrix style approach, you should use [numpy.matrix](https://docs.scipy.org/doc/numpy/reference/generated/numpy.matrix.html).\n",
    "* Scipy is built on top of Numpy and has support for sparse matrices. You most likely will not need to use Scipy unless you'd like to try out their sparse matrices.\n",
    "* If you choose to use Numpy (and Scipy), please make sure your Anaconda environment include their latest versions.\n",
    "* Test your parsing and HITS calculations using a handful of trust relationships, before moving on to the entire file we provide.\n",
    "* We will evaluate the user ranks you provide as well as the quality of your code. So make sure that your code is clear and readable."
   ]
  },
  {
   "cell_type": "markdown",
   "metadata": {},
   "source": [
    "# Part 3: Search Engine Optimization (10 + 5 points)"
   ]
  },
  {
   "cell_type": "markdown",
   "metadata": {},
   "source": [
    "For this part, your goal is to put on your \"[search engine optimization](https://en.wikipedia.org/wiki/Search_engine_optimization)\" hat. Your job is to create a webpage that scores highest for the query: **sajfd hfafbjhd** --- two terms, lower case, no quote. As of today (Jan 24, 2019), there are no hits for this query on either Google or Bing. Based on our discussions of search engine ranking algorithms, you know that several factors may impact a page's rank. Your goal is to use this knowledge to promote your own page to the top of the list.\n",
    "\n",
    "What we're doing here is a form of [SEO contest](https://en.wikipedia.org/wiki/SEO_contest). While you have great latitude in how you approach this problem, you are not allowed to engage in any unethical or illegal behavior. Please read the discussion of \"white hat\" versus \"black hat\" SEO over at [Wikipedia](https://en.wikipedia.org/wiki/Search_engine_optimization).\n",
    "\n",
    "\n",
    "**Rules of the game:**\n",
    "\n",
    "* Somewhere in the page (possibly in the non-viewable source html) you must include your name or some other way for us to identify you.\n",
    "* Your target page may only be a TAMU student page, a page on your own webserver, a page on a standard blog platform (e.g., wordpress), or some other primarily user-controlled page\n",
    "* Your target page CAN NOT be a twitter account, a facebook page, a Yahoo Answers or similar page\n",
    "* No wikipedia vandalism\n",
    "* No yahoo/wiki answers questions\n",
    "* No comment spamming of blogs\n",
    "* If you have concerns/questions/clarifications, please post on Piazza and we will discuss\n",
    "\n",
    "For your homework turnin for this part, you should provide us the URL of your target page and a brief discussion (2-4 paragraphs) of the strategies you are using. We will issue the query and check the rankings at some undetermined time in the next couple of weeks. You might guess that major search engines take some time to discover and integrate new pages: if I were you, I'd get a target page up immediately.\n",
    "\n",
    "**Grading:**\n",
    "\n",
    "* 5 points for providing a valid URL\n",
    "* 5 points for a well-reasoned discussion of your strategy\n",
    "\n",
    "** Bonus: **\n",
    "* 1 point for your page appearing in the top-20 on Google or Bing\n",
    "* 1 more point for your page appearing in the top-10 on Google or Bing\n",
    "* 1 more point for your page appearing in the top-5 on Google or Bing\n",
    "* 2 more points for your page being ranked first by Google or Bing. And, a vigorous announcement in class, and a high-five for having the top result!"
   ]
  },
  {
   "cell_type": "markdown",
   "metadata": {},
   "source": [
    "What's the URL of your page?\n",
    "\n",
    "*ADD YOUR INPUT HERE*"
   ]
  },
  {
   "cell_type": "markdown",
   "metadata": {},
   "source": [
    "What's your strategy? (2-4 paragraphs)\n",
    "\n",
    "*ADD YOUR INPUT HERE*"
   ]
  },
  {
   "cell_type": "markdown",
   "metadata": {},
   "source": [
    "## Collaboration declarations"
   ]
  },
  {
   "cell_type": "markdown",
   "metadata": {},
   "source": [
    "*If you collaborated with anyone (see Collaboration policy at the top of this homework), you can put your collaboration declarations here.*"
   ]
  },
  {
   "cell_type": "code",
   "execution_count": null,
   "metadata": {},
   "outputs": [],
   "source": []
  }
 ],
 "metadata": {
  "kernelspec": {
   "display_name": "Python 3",
   "language": "python",
   "name": "python3"
  },
  "language_info": {
   "codemirror_mode": {
    "name": "ipython",
    "version": 3
   },
   "file_extension": ".py",
   "mimetype": "text/x-python",
   "name": "python",
   "nbconvert_exporter": "python",
   "pygments_lexer": "ipython3",
   "version": "3.6.8"
  }
 },
 "nbformat": 4,
 "nbformat_minor": 2
}
